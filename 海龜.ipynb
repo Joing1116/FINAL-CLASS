{
  "nbformat": 4,
  "nbformat_minor": 0,
  "metadata": {
    "colab": {
      "provenance": [],
      "include_colab_link": true
    },
    "kernelspec": {
      "name": "python3",
      "display_name": "Python 3"
    },
    "language_info": {
      "name": "python"
    }
  },
  "cells": [
    {
      "cell_type": "markdown",
      "metadata": {
        "id": "view-in-github",
        "colab_type": "text"
      },
      "source": [
        "<a href=\"https://colab.research.google.com/github/Joing1116/FINAL-CLASS/blob/main/%E6%B5%B7%E9%BE%9C.ipynb\" target=\"_parent\"><img src=\"https://colab.research.google.com/assets/colab-badge.svg\" alt=\"Open In Colab\"/></a>"
      ]
    },
    {
      "cell_type": "code",
      "execution_count": null,
      "metadata": {
        "colab": {
          "base_uri": "https://localhost:8080/"
        },
        "id": "mluZueIuR4-u",
        "outputId": "60413a5b-97a2-4e6b-e2d6-427d6ba6dbe7"
      },
      "outputs": [
        {
          "output_type": "stream",
          "name": "stdout",
          "text": [
            "Collecting ColabTurtle\n",
            "  Downloading ColabTurtle-2.1.0.tar.gz (6.8 kB)\n",
            "  Preparing metadata (setup.py) ... \u001b[?25l\u001b[?25hdone\n",
            "Building wheels for collected packages: ColabTurtle\n",
            "  Building wheel for ColabTurtle (setup.py) ... \u001b[?25l\u001b[?25hdone\n",
            "  Created wheel for ColabTurtle: filename=ColabTurtle-2.1.0-py3-none-any.whl size=7642 sha256=1a5bedd2ff1b02b1a2d17c525d20ee9812921b2ec4390c12d9201721fa86a717\n",
            "  Stored in directory: /root/.cache/pip/wheels/5b/86/e8/54f5c8c853606e3a3060bb2e60363cbed632374a12e0f33ffc\n",
            "Successfully built ColabTurtle\n",
            "Installing collected packages: ColabTurtle\n",
            "Successfully installed ColabTurtle-2.1.0\n"
          ]
        }
      ],
      "source": [
        "!pip3 install ColabTurtle"
      ]
    },
    {
      "cell_type": "code",
      "source": [
        "import ColabTurtle.Turtle as CT\n",
        "import numpy as np\n",
        "\n",
        "CT.initializeTurtle(initial_window_size=(300,300), initial_speed=6)\n",
        "\n",
        "CT.color(\"white\")\n",
        "CT.pen_width=2\n",
        "\n",
        "# 畫一個正六邊形\n",
        "n=6\n",
        "# 每條線要轉 360/6=60 度\n",
        "theta=360./n\n",
        "# 每個邊的長度是 w0\n",
        "w0=140.\n",
        "# 可以算出多邊形頂點到中心的距離 R\n",
        "R=(w0/2.)/np.sin(theta/2.* np.pi /180.)\n",
        "\n",
        "# 先將海龜移到最上方的頂點\n",
        "CT.penup()\n",
        "CT.forward(R)\n",
        "# 轉個方向準備畫線\n",
        "theta2=90.+theta/2.\n",
        "CT.right(theta2)\n",
        "CT.pendown()\n",
        "\n",
        "for i in range(n):\n",
        "  CT.forward(w0)\n",
        "  CT.right(theta)\n",
        "\n",
        "CT.hideturtle()"
      ],
      "metadata": {
        "colab": {
          "base_uri": "https://localhost:8080/",
          "height": 321
        },
        "id": "49ztRiu-SCPX",
        "outputId": "25947503-9509-49d5-f4b1-d07c9b6a9b15"
      },
      "execution_count": null,
      "outputs": [
        {
          "output_type": "display_data",
          "data": {
            "text/plain": [
              "<IPython.core.display.HTML object>"
            ],
            "text/html": [
              "\n",
              "      <svg width=\"300\" height=\"300\">\n",
              "        <rect width=\"100%\" height=\"100%\" fill=\"black\"/>\n",
              "        <line x1=\"150.0\" y1=\"10.0\" x2=\"271.244\" y2=\"80.0\" stroke-linecap=\"round\" style=\"stroke:white;stroke-width:2\"/><line x1=\"271.244\" y1=\"80.0\" x2=\"271.244\" y2=\"220.0\" stroke-linecap=\"round\" style=\"stroke:white;stroke-width:2\"/><line x1=\"271.244\" y1=\"220.0\" x2=\"150.0\" y2=\"290.0\" stroke-linecap=\"round\" style=\"stroke:white;stroke-width:2\"/><line x1=\"150.0\" y1=\"290.0\" x2=\"28.756\" y2=\"220.0\" stroke-linecap=\"round\" style=\"stroke:white;stroke-width:2\"/><line x1=\"28.756\" y1=\"220.0\" x2=\"28.756\" y2=\"80.0\" stroke-linecap=\"round\" style=\"stroke:white;stroke-width:2\"/><line x1=\"28.756\" y1=\"80.0\" x2=\"150.0\" y2=\"10.0\" stroke-linecap=\"round\" style=\"stroke:white;stroke-width:2\"/>\n",
              "        <g visibility=hidden transform=\"rotate(120.0,150.0,10.0) translate(132.0, -8.0)\">\n",
              "<path style=\" stroke:none;fill-rule:evenodd;fill:white;fill-opacity:1;\" d=\"M 18.214844 0.632812 C 16.109375 1.800781 15.011719 4.074219 15.074219 7.132812 L 15.085938 7.652344 L 14.785156 7.496094 C 13.476562 6.824219 11.957031 6.671875 10.40625 7.066406 C 8.46875 7.550781 6.515625 9.15625 4.394531 11.992188 C 3.0625 13.777344 2.679688 14.636719 3.042969 15.027344 L 3.15625 15.152344 L 3.519531 15.152344 C 4.238281 15.152344 4.828125 14.886719 8.1875 13.039062 C 9.386719 12.378906 10.371094 11.839844 10.378906 11.839844 C 10.386719 11.839844 10.355469 11.929688 10.304688 12.035156 C 9.832031 13.09375 9.257812 14.820312 8.96875 16.078125 C 7.914062 20.652344 8.617188 24.53125 11.070312 27.660156 C 11.351562 28.015625 11.363281 27.914062 10.972656 28.382812 C 8.925781 30.84375 7.945312 33.28125 8.238281 35.1875 C 8.289062 35.527344 8.28125 35.523438 8.917969 35.523438 C 10.941406 35.523438 13.074219 34.207031 15.136719 31.6875 C 15.359375 31.417969 15.328125 31.425781 15.5625 31.574219 C 16.292969 32.042969 18.023438 32.964844 18.175781 32.964844 C 18.335938 32.964844 19.941406 32.210938 20.828125 31.71875 C 20.996094 31.625 21.136719 31.554688 21.136719 31.558594 C 21.203125 31.664062 21.898438 32.414062 22.222656 32.730469 C 23.835938 34.300781 25.5625 35.132812 27.582031 35.300781 C 27.90625 35.328125 27.9375 35.308594 28.007812 34.984375 C 28.382812 33.242188 27.625 30.925781 25.863281 28.425781 L 25.542969 27.96875 L 25.699219 27.785156 C 28.945312 23.960938 29.132812 18.699219 26.257812 11.96875 L 26.207031 11.84375 L 27.945312 12.703125 C 31.53125 14.476562 32.316406 14.800781 33.03125 14.800781 C 33.976562 14.800781 33.78125 13.9375 32.472656 12.292969 C 28.519531 7.355469 25.394531 5.925781 21.921875 7.472656 L 21.558594 7.636719 L 21.578125 7.542969 C 21.699219 6.992188 21.761719 5.742188 21.699219 5.164062 C 21.496094 3.296875 20.664062 1.964844 19.003906 0.855469 C 18.480469 0.503906 18.457031 0.5 18.214844 0.632812\"/>\n",
              "</g>\n",
              "      </svg>\n",
              "    "
            ]
          },
          "metadata": {}
        }
      ]
    },
    {
      "cell_type": "code",
      "source": [
        "import ColabTurtle.Turtle as CT\n",
        "import numpy as np\n",
        "\n",
        "CT.initializeTurtle(initial_window_size=(300,300), initial_speed=7)\n",
        "\n",
        "CT.color(\"white\")\n",
        "CT.pen_width=2\n",
        "\n",
        "# 畫一個正六邊形\n",
        "n=6\n",
        "# 每條線要轉 360/6=60 度\n",
        "theta=360./n\n",
        "# 每個邊的長度是 w0\n",
        "w0=140.\n",
        "# 可以算出多邊形頂點到中心的距離 R\n",
        "R=(w0/2.)/np.sin(theta/2.* np.pi /180.)\n",
        "\n",
        "# 要畫 n1 個多邊形\n",
        "# 每個多邊形差異角度 theta1\n",
        "n1=5\n",
        "theta1=10\n",
        "\n",
        "# 先將海龜移到最上方的頂點\n",
        "CT.penup()\n",
        "CT.forward(R)\n",
        "# 轉個方向準備畫線\n",
        "theta2=90.+theta/2.\n",
        "CT.right(theta2)\n",
        "CT.pendown()\n",
        "\n",
        "for j in range(n1):\n",
        "  # 先畫一個\n",
        "  for i in range(n):\n",
        "    CT.forward(w0)\n",
        "    CT.right(theta)\n",
        "\n",
        "  # 回到原點\n",
        "  CT.penup()\n",
        "  CT.home()\n",
        "  # 轉個角度再出發\n",
        "  CT.right(theta1*(j+1))\n",
        "  CT.forward(R)\n",
        "  CT.right(theta2)\n",
        "  CT.pendown()\n",
        "\n",
        "CT.hideturtle()"
      ],
      "metadata": {
        "colab": {
          "base_uri": "https://localhost:8080/",
          "height": 321
        },
        "id": "lB6uIF3J9ZJe",
        "outputId": "2cc9d24d-311a-47ff-b271-bfc0549c075a"
      },
      "execution_count": null,
      "outputs": [
        {
          "output_type": "display_data",
          "data": {
            "text/plain": [
              "<IPython.core.display.HTML object>"
            ],
            "text/html": [
              "\n",
              "      <svg width=\"300\" height=\"300\">\n",
              "        <rect width=\"100%\" height=\"100%\" fill=\"black\"/>\n",
              "        <line x1=\"150.0\" y1=\"10.0\" x2=\"271.244\" y2=\"80.0\" stroke-linecap=\"round\" style=\"stroke:white;stroke-width:2\"/><line x1=\"271.244\" y1=\"80.0\" x2=\"271.244\" y2=\"220.0\" stroke-linecap=\"round\" style=\"stroke:white;stroke-width:2\"/><line x1=\"271.244\" y1=\"220.0\" x2=\"150.0\" y2=\"290.0\" stroke-linecap=\"round\" style=\"stroke:white;stroke-width:2\"/><line x1=\"150.0\" y1=\"290.0\" x2=\"28.756\" y2=\"220.0\" stroke-linecap=\"round\" style=\"stroke:white;stroke-width:2\"/><line x1=\"28.756\" y1=\"220.0\" x2=\"28.756\" y2=\"80.0\" stroke-linecap=\"round\" style=\"stroke:white;stroke-width:2\"/><line x1=\"28.756\" y1=\"80.0\" x2=\"150.0\" y2=\"10.0\" stroke-linecap=\"round\" style=\"stroke:white;stroke-width:2\"/><line x1=\"174.311\" y1=\"12.127\" x2=\"281.557\" y2=\"102.117\" stroke-linecap=\"round\" style=\"stroke:white;stroke-width:2\"/><line x1=\"281.557\" y1=\"102.117\" x2=\"257.246\" y2=\"239.99\" stroke-linecap=\"round\" style=\"stroke:white;stroke-width:2\"/><line x1=\"257.246\" y1=\"239.99\" x2=\"125.689\" y2=\"287.873\" stroke-linecap=\"round\" style=\"stroke:white;stroke-width:2\"/><line x1=\"125.689\" y1=\"287.873\" x2=\"18.443\" y2=\"197.883\" stroke-linecap=\"round\" style=\"stroke:white;stroke-width:2\"/><line x1=\"18.443\" y1=\"197.883\" x2=\"42.754\" y2=\"60.01\" stroke-linecap=\"round\" style=\"stroke:white;stroke-width:2\"/><line x1=\"42.754\" y1=\"60.01\" x2=\"174.311\" y2=\"12.127\" stroke-linecap=\"round\" style=\"stroke:white;stroke-width:2\"/><line x1=\"197.883\" y1=\"18.443\" x2=\"287.873\" y2=\"125.689\" stroke-linecap=\"round\" style=\"stroke:white;stroke-width:2\"/><line x1=\"287.873\" y1=\"125.689\" x2=\"239.99\" y2=\"257.246\" stroke-linecap=\"round\" style=\"stroke:white;stroke-width:2\"/><line x1=\"239.99\" y1=\"257.246\" x2=\"102.117\" y2=\"281.557\" stroke-linecap=\"round\" style=\"stroke:white;stroke-width:2\"/><line x1=\"102.117\" y1=\"281.557\" x2=\"12.127\" y2=\"174.311\" stroke-linecap=\"round\" style=\"stroke:white;stroke-width:2\"/><line x1=\"12.127\" y1=\"174.311\" x2=\"60.01\" y2=\"42.754\" stroke-linecap=\"round\" style=\"stroke:white;stroke-width:2\"/><line x1=\"60.01\" y1=\"42.754\" x2=\"197.883\" y2=\"18.443\" stroke-linecap=\"round\" style=\"stroke:white;stroke-width:2\"/><line x1=\"220.0\" y1=\"28.756\" x2=\"290.0\" y2=\"150.0\" stroke-linecap=\"round\" style=\"stroke:white;stroke-width:2\"/><line x1=\"290.0\" y1=\"150.0\" x2=\"220.0\" y2=\"271.244\" stroke-linecap=\"round\" style=\"stroke:white;stroke-width:2\"/><line x1=\"220.0\" y1=\"271.244\" x2=\"80.0\" y2=\"271.244\" stroke-linecap=\"round\" style=\"stroke:white;stroke-width:2\"/><line x1=\"80.0\" y1=\"271.244\" x2=\"10.0\" y2=\"150.0\" stroke-linecap=\"round\" style=\"stroke:white;stroke-width:2\"/><line x1=\"10.0\" y1=\"150.0\" x2=\"80.0\" y2=\"28.756\" stroke-linecap=\"round\" style=\"stroke:white;stroke-width:2\"/><line x1=\"80.0\" y1=\"28.756\" x2=\"220.0\" y2=\"28.756\" stroke-linecap=\"round\" style=\"stroke:white;stroke-width:2\"/><line x1=\"239.99\" y1=\"42.754\" x2=\"287.873\" y2=\"174.311\" stroke-linecap=\"round\" style=\"stroke:white;stroke-width:2\"/><line x1=\"287.873\" y1=\"174.311\" x2=\"197.883\" y2=\"281.557\" stroke-linecap=\"round\" style=\"stroke:white;stroke-width:2\"/><line x1=\"197.883\" y1=\"281.557\" x2=\"60.01\" y2=\"257.246\" stroke-linecap=\"round\" style=\"stroke:white;stroke-width:2\"/><line x1=\"60.01\" y1=\"257.246\" x2=\"12.127\" y2=\"125.689\" stroke-linecap=\"round\" style=\"stroke:white;stroke-width:2\"/><line x1=\"12.127\" y1=\"125.689\" x2=\"102.117\" y2=\"18.443\" stroke-linecap=\"round\" style=\"stroke:white;stroke-width:2\"/><line x1=\"102.117\" y1=\"18.443\" x2=\"239.99\" y2=\"42.754\" stroke-linecap=\"round\" style=\"stroke:white;stroke-width:2\"/>\n",
              "        <g visibility=hidden transform=\"rotate(170.0,257.246,60.01) translate(239.24599999999998, 42.01)\">\n",
              "<path style=\" stroke:none;fill-rule:evenodd;fill:white;fill-opacity:1;\" d=\"M 18.214844 0.632812 C 16.109375 1.800781 15.011719 4.074219 15.074219 7.132812 L 15.085938 7.652344 L 14.785156 7.496094 C 13.476562 6.824219 11.957031 6.671875 10.40625 7.066406 C 8.46875 7.550781 6.515625 9.15625 4.394531 11.992188 C 3.0625 13.777344 2.679688 14.636719 3.042969 15.027344 L 3.15625 15.152344 L 3.519531 15.152344 C 4.238281 15.152344 4.828125 14.886719 8.1875 13.039062 C 9.386719 12.378906 10.371094 11.839844 10.378906 11.839844 C 10.386719 11.839844 10.355469 11.929688 10.304688 12.035156 C 9.832031 13.09375 9.257812 14.820312 8.96875 16.078125 C 7.914062 20.652344 8.617188 24.53125 11.070312 27.660156 C 11.351562 28.015625 11.363281 27.914062 10.972656 28.382812 C 8.925781 30.84375 7.945312 33.28125 8.238281 35.1875 C 8.289062 35.527344 8.28125 35.523438 8.917969 35.523438 C 10.941406 35.523438 13.074219 34.207031 15.136719 31.6875 C 15.359375 31.417969 15.328125 31.425781 15.5625 31.574219 C 16.292969 32.042969 18.023438 32.964844 18.175781 32.964844 C 18.335938 32.964844 19.941406 32.210938 20.828125 31.71875 C 20.996094 31.625 21.136719 31.554688 21.136719 31.558594 C 21.203125 31.664062 21.898438 32.414062 22.222656 32.730469 C 23.835938 34.300781 25.5625 35.132812 27.582031 35.300781 C 27.90625 35.328125 27.9375 35.308594 28.007812 34.984375 C 28.382812 33.242188 27.625 30.925781 25.863281 28.425781 L 25.542969 27.96875 L 25.699219 27.785156 C 28.945312 23.960938 29.132812 18.699219 26.257812 11.96875 L 26.207031 11.84375 L 27.945312 12.703125 C 31.53125 14.476562 32.316406 14.800781 33.03125 14.800781 C 33.976562 14.800781 33.78125 13.9375 32.472656 12.292969 C 28.519531 7.355469 25.394531 5.925781 21.921875 7.472656 L 21.558594 7.636719 L 21.578125 7.542969 C 21.699219 6.992188 21.761719 5.742188 21.699219 5.164062 C 21.496094 3.296875 20.664062 1.964844 19.003906 0.855469 C 18.480469 0.503906 18.457031 0.5 18.214844 0.632812\"/>\n",
              "</g>\n",
              "      </svg>\n",
              "    "
            ]
          },
          "metadata": {}
        }
      ]
    },
    {
      "cell_type": "code",
      "source": [
        "import ColabTurtle.Turtle as CT\n",
        "import numpy as np\n",
        "\n",
        "CT.initializeTurtle(initial_window_size=(300,300), initial_speed=10)\n",
        "\n",
        "CT.color(\"white\")\n",
        "CT.pen_width=2\n",
        "\n",
        "# 畫一個正六邊形\n",
        "n=6\n",
        "# 每條線要轉 360/6=60 度\n",
        "theta=360./n\n",
        "# 每個邊的長度是 w0\n",
        "w0=140.\n",
        "# 可以算出多邊形頂點到中心的距離 R\n",
        "R=(w0/2.)/np.sin(theta/2.* np.pi /180.)\n",
        "\n",
        "# 要畫 n1 個多邊形\n",
        "# 每個多邊形差異角度 theta1\n",
        "n1=5\n",
        "theta1=10\n",
        "\n",
        "# 先將海龜移到最上方的頂點\n",
        "CT.penup()\n",
        "CT.forward(R)\n",
        "# 轉個方向準備畫線\n",
        "theta2=90.+theta/2.\n",
        "CT.right(theta2)\n",
        "CT.pendown()\n",
        "\n",
        "for j in range(n1):\n",
        "  # 先畫一個\n",
        "  for i in range(n):\n",
        "    CT.forward(w0)\n",
        "    CT.right(theta)\n",
        "\n",
        "  # 回到原點\n",
        "  CT.penup()\n",
        "  CT.home()\n",
        "  # 把多邊形縮小一點\n",
        "  w0=w0*0.8\n",
        "  R=R*0.8\n",
        "  # 轉個角度再出發\n",
        "  CT.right(theta1*(j+1))\n",
        "  CT.forward(R)\n",
        "  CT.right(theta2)\n",
        "  CT.pendown()\n",
        "\n",
        "CT.hideturtle()"
      ],
      "metadata": {
        "colab": {
          "base_uri": "https://localhost:8080/",
          "height": 321
        },
        "id": "gV2IAjKA_mh1",
        "outputId": "6b9740f5-952a-40bd-f71b-cd4ea15c2122"
      },
      "execution_count": null,
      "outputs": [
        {
          "output_type": "display_data",
          "data": {
            "text/plain": [
              "<IPython.core.display.HTML object>"
            ],
            "text/html": [
              "\n",
              "      <svg width=\"300\" height=\"300\">\n",
              "        <rect width=\"100%\" height=\"100%\" fill=\"black\"/>\n",
              "        <line x1=\"150.0\" y1=\"10.0\" x2=\"271.244\" y2=\"80.0\" stroke-linecap=\"round\" style=\"stroke:white;stroke-width:2\"/><line x1=\"271.244\" y1=\"80.0\" x2=\"271.244\" y2=\"220.0\" stroke-linecap=\"round\" style=\"stroke:white;stroke-width:2\"/><line x1=\"271.244\" y1=\"220.0\" x2=\"150.0\" y2=\"290.0\" stroke-linecap=\"round\" style=\"stroke:white;stroke-width:2\"/><line x1=\"150.0\" y1=\"290.0\" x2=\"28.756\" y2=\"220.0\" stroke-linecap=\"round\" style=\"stroke:white;stroke-width:2\"/><line x1=\"28.756\" y1=\"220.0\" x2=\"28.756\" y2=\"80.0\" stroke-linecap=\"round\" style=\"stroke:white;stroke-width:2\"/><line x1=\"28.756\" y1=\"80.0\" x2=\"150.0\" y2=\"10.0\" stroke-linecap=\"round\" style=\"stroke:white;stroke-width:2\"/><line x1=\"169.449\" y1=\"39.702\" x2=\"255.246\" y2=\"111.694\" stroke-linecap=\"round\" style=\"stroke:white;stroke-width:2\"/><line x1=\"255.246\" y1=\"111.694\" x2=\"235.797\" y2=\"221.992\" stroke-linecap=\"round\" style=\"stroke:white;stroke-width:2\"/><line x1=\"235.797\" y1=\"221.992\" x2=\"130.551\" y2=\"260.298\" stroke-linecap=\"round\" style=\"stroke:white;stroke-width:2\"/><line x1=\"130.551\" y1=\"260.298\" x2=\"44.754\" y2=\"188.306\" stroke-linecap=\"round\" style=\"stroke:white;stroke-width:2\"/><line x1=\"44.754\" y1=\"188.306\" x2=\"64.203\" y2=\"78.008\" stroke-linecap=\"round\" style=\"stroke:white;stroke-width:2\"/><line x1=\"64.203\" y1=\"78.008\" x2=\"169.449\" y2=\"39.702\" stroke-linecap=\"round\" style=\"stroke:white;stroke-width:2\"/><line x1=\"180.645\" y1=\"65.804\" x2=\"238.239\" y2=\"134.442\" stroke-linecap=\"round\" style=\"stroke:white;stroke-width:2\"/><line x1=\"238.239\" y1=\"134.442\" x2=\"207.594\" y2=\"218.638\" stroke-linecap=\"round\" style=\"stroke:white;stroke-width:2\"/><line x1=\"207.594\" y1=\"218.638\" x2=\"119.355\" y2=\"234.197\" stroke-linecap=\"round\" style=\"stroke:white;stroke-width:2\"/><line x1=\"119.355\" y1=\"234.197\" x2=\"61.761\" y2=\"165.559\" stroke-linecap=\"round\" style=\"stroke:white;stroke-width:2\"/><line x1=\"61.761\" y1=\"165.559\" x2=\"92.406\" y2=\"81.363\" stroke-linecap=\"round\" style=\"stroke:white;stroke-width:2\"/><line x1=\"92.406\" y1=\"81.363\" x2=\"180.645\" y2=\"65.804\" stroke-linecap=\"round\" style=\"stroke:white;stroke-width:2\"/><line x1=\"185.84\" y1=\"87.923\" x2=\"221.68\" y2=\"150.0\" stroke-linecap=\"round\" style=\"stroke:white;stroke-width:2\"/><line x1=\"221.68\" y1=\"150.0\" x2=\"185.84\" y2=\"212.077\" stroke-linecap=\"round\" style=\"stroke:white;stroke-width:2\"/><line x1=\"185.84\" y1=\"212.077\" x2=\"114.16\" y2=\"212.077\" stroke-linecap=\"round\" style=\"stroke:white;stroke-width:2\"/><line x1=\"114.16\" y1=\"212.077\" x2=\"78.32\" y2=\"150.0\" stroke-linecap=\"round\" style=\"stroke:white;stroke-width:2\"/><line x1=\"78.32\" y1=\"150.0\" x2=\"114.16\" y2=\"87.923\" stroke-linecap=\"round\" style=\"stroke:white;stroke-width:2\"/><line x1=\"114.16\" y1=\"87.923\" x2=\"185.84\" y2=\"87.923\" stroke-linecap=\"round\" style=\"stroke:white;stroke-width:2\"/><line x1=\"186.86\" y1=\"106.072\" x2=\"206.473\" y2=\"159.958\" stroke-linecap=\"round\" style=\"stroke:white;stroke-width:2\"/><line x1=\"206.473\" y1=\"159.958\" x2=\"169.613\" y2=\"203.886\" stroke-linecap=\"round\" style=\"stroke:white;stroke-width:2\"/><line x1=\"169.613\" y1=\"203.886\" x2=\"113.14\" y2=\"193.928\" stroke-linecap=\"round\" style=\"stroke:white;stroke-width:2\"/><line x1=\"113.14\" y1=\"193.928\" x2=\"93.527\" y2=\"140.042\" stroke-linecap=\"round\" style=\"stroke:white;stroke-width:2\"/><line x1=\"93.527\" y1=\"140.042\" x2=\"130.387\" y2=\"96.114\" stroke-linecap=\"round\" style=\"stroke:white;stroke-width:2\"/><line x1=\"130.387\" y1=\"96.114\" x2=\"186.86\" y2=\"106.072\" stroke-linecap=\"round\" style=\"stroke:white;stroke-width:2\"/>\n",
              "        <g visibility=hidden transform=\"rotate(170.0,185.142,120.512) translate(167.142, 102.512)\">\n",
              "<path style=\" stroke:none;fill-rule:evenodd;fill:white;fill-opacity:1;\" d=\"M 18.214844 0.632812 C 16.109375 1.800781 15.011719 4.074219 15.074219 7.132812 L 15.085938 7.652344 L 14.785156 7.496094 C 13.476562 6.824219 11.957031 6.671875 10.40625 7.066406 C 8.46875 7.550781 6.515625 9.15625 4.394531 11.992188 C 3.0625 13.777344 2.679688 14.636719 3.042969 15.027344 L 3.15625 15.152344 L 3.519531 15.152344 C 4.238281 15.152344 4.828125 14.886719 8.1875 13.039062 C 9.386719 12.378906 10.371094 11.839844 10.378906 11.839844 C 10.386719 11.839844 10.355469 11.929688 10.304688 12.035156 C 9.832031 13.09375 9.257812 14.820312 8.96875 16.078125 C 7.914062 20.652344 8.617188 24.53125 11.070312 27.660156 C 11.351562 28.015625 11.363281 27.914062 10.972656 28.382812 C 8.925781 30.84375 7.945312 33.28125 8.238281 35.1875 C 8.289062 35.527344 8.28125 35.523438 8.917969 35.523438 C 10.941406 35.523438 13.074219 34.207031 15.136719 31.6875 C 15.359375 31.417969 15.328125 31.425781 15.5625 31.574219 C 16.292969 32.042969 18.023438 32.964844 18.175781 32.964844 C 18.335938 32.964844 19.941406 32.210938 20.828125 31.71875 C 20.996094 31.625 21.136719 31.554688 21.136719 31.558594 C 21.203125 31.664062 21.898438 32.414062 22.222656 32.730469 C 23.835938 34.300781 25.5625 35.132812 27.582031 35.300781 C 27.90625 35.328125 27.9375 35.308594 28.007812 34.984375 C 28.382812 33.242188 27.625 30.925781 25.863281 28.425781 L 25.542969 27.96875 L 25.699219 27.785156 C 28.945312 23.960938 29.132812 18.699219 26.257812 11.96875 L 26.207031 11.84375 L 27.945312 12.703125 C 31.53125 14.476562 32.316406 14.800781 33.03125 14.800781 C 33.976562 14.800781 33.78125 13.9375 32.472656 12.292969 C 28.519531 7.355469 25.394531 5.925781 21.921875 7.472656 L 21.558594 7.636719 L 21.578125 7.542969 C 21.699219 6.992188 21.761719 5.742188 21.699219 5.164062 C 21.496094 3.296875 20.664062 1.964844 19.003906 0.855469 C 18.480469 0.503906 18.457031 0.5 18.214844 0.632812\"/>\n",
              "</g>\n",
              "      </svg>\n",
              "    "
            ]
          },
          "metadata": {}
        }
      ]
    },
    {
      "cell_type": "code",
      "source": [
        "import ColabTurtle.Turtle as CT\n",
        "import numpy as np\n",
        "\n",
        "CT.initializeTurtle(initial_window_size=(300,300), initial_speed=10)\n",
        "\n",
        "CT.color(\"white\")\n",
        "CT.pen_width=2\n",
        "\n",
        "# 畫一個正六邊形\n",
        "n=6\n",
        "# 每條線要轉 360/6=60 度\n",
        "theta=360./n\n",
        "# 每個邊的長度是 w0\n",
        "w0=140.\n",
        "# 可以算出多邊形頂點到中心的距離 R\n",
        "R=(w0/2.)/np.sin(theta/2.* np.pi /180.)\n",
        "\n",
        "# 要畫 n1 個多邊形\n",
        "# 每個多邊形差異角度 theta1\n",
        "n1=5\n",
        "theta1=10\n",
        "\n",
        "# 先將海龜移到最上方的頂點\n",
        "CT.penup()\n",
        "CT.forward(R)\n",
        "# 轉個方向準備畫線\n",
        "theta2=90.+theta/2.\n",
        "CT.right(theta2)\n",
        "CT.pendown()\n",
        "\n",
        "for j in range(n1):\n",
        "  # 先畫一個\n",
        "  for i in range(n):\n",
        "    CT.forward(w0)\n",
        "    CT.right(theta)\n",
        "\n",
        "  # 回到原點\n",
        "  CT.penup()\n",
        "  CT.home()\n",
        "  # 把多邊形縮小一點，讓下一個多邊形剛剛好碰到上一個\n",
        "  # 推導有點難，歡迎大家挑戰\n",
        "  w0=w0*(np.sin((90-theta/2.)*np.pi/180.)\n",
        "    /np.sin((90+theta/2.-theta1)*np.pi/180.))\n",
        "  R=(w0/2)/np.sin(theta/2.* np.pi /180.)\n",
        "  # 轉個角度再出發\n",
        "  CT.right(theta1*(j+1))\n",
        "  CT.forward(R)\n",
        "  CT.right(theta2)\n",
        "  CT.pendown()\n",
        "\n",
        "CT.hideturtle()"
      ],
      "metadata": {
        "colab": {
          "base_uri": "https://localhost:8080/",
          "height": 321
        },
        "id": "E4cri2wLAFO4",
        "outputId": "b030b7c3-06a7-4839-e2d7-ab3a4583482b"
      },
      "execution_count": null,
      "outputs": [
        {
          "output_type": "display_data",
          "data": {
            "text/plain": [
              "<IPython.core.display.HTML object>"
            ],
            "text/html": [
              "\n",
              "      <svg width=\"300\" height=\"300\">\n",
              "        <rect width=\"100%\" height=\"100%\" fill=\"black\"/>\n",
              "        <line x1=\"150.0\" y1=\"10.0\" x2=\"271.244\" y2=\"80.0\" stroke-linecap=\"round\" style=\"stroke:white;stroke-width:2\"/><line x1=\"271.244\" y1=\"80.0\" x2=\"271.244\" y2=\"220.0\" stroke-linecap=\"round\" style=\"stroke:white;stroke-width:2\"/><line x1=\"271.244\" y1=\"220.0\" x2=\"150.0\" y2=\"290.0\" stroke-linecap=\"round\" style=\"stroke:white;stroke-width:2\"/><line x1=\"150.0\" y1=\"290.0\" x2=\"28.756\" y2=\"220.0\" stroke-linecap=\"round\" style=\"stroke:white;stroke-width:2\"/><line x1=\"28.756\" y1=\"220.0\" x2=\"28.756\" y2=\"80.0\" stroke-linecap=\"round\" style=\"stroke:white;stroke-width:2\"/><line x1=\"28.756\" y1=\"80.0\" x2=\"150.0\" y2=\"10.0\" stroke-linecap=\"round\" style=\"stroke:white;stroke-width:2\"/><line x1=\"172.405\" y1=\"22.935\" x2=\"271.244\" y2=\"105.87\" stroke-linecap=\"round\" style=\"stroke:white;stroke-width:2\"/><line x1=\"271.244\" y1=\"105.87\" x2=\"248.839\" y2=\"232.935\" stroke-linecap=\"round\" style=\"stroke:white;stroke-width:2\"/><line x1=\"248.839\" y1=\"232.935\" x2=\"127.595\" y2=\"277.064\" stroke-linecap=\"round\" style=\"stroke:white;stroke-width:2\"/><line x1=\"127.595\" y1=\"277.064\" x2=\"28.756\" y2=\"194.129\" stroke-linecap=\"round\" style=\"stroke:white;stroke-width:2\"/><line x1=\"28.756\" y1=\"194.129\" x2=\"51.161\" y2=\"67.064\" stroke-linecap=\"round\" style=\"stroke:white;stroke-width:2\"/><line x1=\"51.161\" y1=\"67.064\" x2=\"172.405\" y2=\"22.935\" stroke-linecap=\"round\" style=\"stroke:white;stroke-width:2\"/><line x1=\"190.67\" y1=\"38.261\" x2=\"267.104\" y2=\"129.351\" stroke-linecap=\"round\" style=\"stroke:white;stroke-width:2\"/><line x1=\"267.104\" y1=\"129.351\" x2=\"226.434\" y2=\"241.09\" stroke-linecap=\"round\" style=\"stroke:white;stroke-width:2\"/><line x1=\"226.434\" y1=\"241.09\" x2=\"109.331\" y2=\"261.738\" stroke-linecap=\"round\" style=\"stroke:white;stroke-width:2\"/><line x1=\"109.331\" y1=\"261.738\" x2=\"32.897\" y2=\"170.648\" stroke-linecap=\"round\" style=\"stroke:white;stroke-width:2\"/><line x1=\"32.897\" y1=\"170.648\" x2=\"73.567\" y2=\"58.909\" stroke-linecap=\"round\" style=\"stroke:white;stroke-width:2\"/><line x1=\"73.567\" y1=\"58.909\" x2=\"190.67\" y2=\"38.261\" stroke-linecap=\"round\" style=\"stroke:white;stroke-width:2\"/><line x1=\"204.794\" y1=\"55.094\" x2=\"259.588\" y2=\"150.0\" stroke-linecap=\"round\" style=\"stroke:white;stroke-width:2\"/><line x1=\"259.588\" y1=\"150.0\" x2=\"204.794\" y2=\"244.906\" stroke-linecap=\"round\" style=\"stroke:white;stroke-width:2\"/><line x1=\"204.794\" y1=\"244.906\" x2=\"95.206\" y2=\"244.906\" stroke-linecap=\"round\" style=\"stroke:white;stroke-width:2\"/><line x1=\"95.206\" y1=\"244.906\" x2=\"40.412\" y2=\"150.0\" stroke-linecap=\"round\" style=\"stroke:white;stroke-width:2\"/><line x1=\"40.412\" y1=\"150.0\" x2=\"95.206\" y2=\"55.094\" stroke-linecap=\"round\" style=\"stroke:white;stroke-width:2\"/><line x1=\"95.206\" y1=\"55.094\" x2=\"204.794\" y2=\"55.094\" stroke-linecap=\"round\" style=\"stroke:white;stroke-width:2\"/><line x1=\"214.919\" y1=\"72.632\" x2=\"249.462\" y2=\"167.538\" stroke-linecap=\"round\" style=\"stroke:white;stroke-width:2\"/><line x1=\"249.462\" y1=\"167.538\" x2=\"184.543\" y2=\"244.906\" stroke-linecap=\"round\" style=\"stroke:white;stroke-width:2\"/><line x1=\"184.543\" y1=\"244.906\" x2=\"85.081\" y2=\"227.368\" stroke-linecap=\"round\" style=\"stroke:white;stroke-width:2\"/><line x1=\"85.081\" y1=\"227.368\" x2=\"50.538\" y2=\"132.462\" stroke-linecap=\"round\" style=\"stroke:white;stroke-width:2\"/><line x1=\"50.538\" y1=\"132.462\" x2=\"115.457\" y2=\"55.094\" stroke-linecap=\"round\" style=\"stroke:white;stroke-width:2\"/><line x1=\"115.457\" y1=\"55.094\" x2=\"214.919\" y2=\"72.632\" stroke-linecap=\"round\" style=\"stroke:white;stroke-width:2\"/>\n",
              "        <g visibility=hidden transform=\"rotate(170.0,221.303,90.17) translate(203.303, 72.17)\">\n",
              "<path style=\" stroke:none;fill-rule:evenodd;fill:white;fill-opacity:1;\" d=\"M 18.214844 0.632812 C 16.109375 1.800781 15.011719 4.074219 15.074219 7.132812 L 15.085938 7.652344 L 14.785156 7.496094 C 13.476562 6.824219 11.957031 6.671875 10.40625 7.066406 C 8.46875 7.550781 6.515625 9.15625 4.394531 11.992188 C 3.0625 13.777344 2.679688 14.636719 3.042969 15.027344 L 3.15625 15.152344 L 3.519531 15.152344 C 4.238281 15.152344 4.828125 14.886719 8.1875 13.039062 C 9.386719 12.378906 10.371094 11.839844 10.378906 11.839844 C 10.386719 11.839844 10.355469 11.929688 10.304688 12.035156 C 9.832031 13.09375 9.257812 14.820312 8.96875 16.078125 C 7.914062 20.652344 8.617188 24.53125 11.070312 27.660156 C 11.351562 28.015625 11.363281 27.914062 10.972656 28.382812 C 8.925781 30.84375 7.945312 33.28125 8.238281 35.1875 C 8.289062 35.527344 8.28125 35.523438 8.917969 35.523438 C 10.941406 35.523438 13.074219 34.207031 15.136719 31.6875 C 15.359375 31.417969 15.328125 31.425781 15.5625 31.574219 C 16.292969 32.042969 18.023438 32.964844 18.175781 32.964844 C 18.335938 32.964844 19.941406 32.210938 20.828125 31.71875 C 20.996094 31.625 21.136719 31.554688 21.136719 31.558594 C 21.203125 31.664062 21.898438 32.414062 22.222656 32.730469 C 23.835938 34.300781 25.5625 35.132812 27.582031 35.300781 C 27.90625 35.328125 27.9375 35.308594 28.007812 34.984375 C 28.382812 33.242188 27.625 30.925781 25.863281 28.425781 L 25.542969 27.96875 L 25.699219 27.785156 C 28.945312 23.960938 29.132812 18.699219 26.257812 11.96875 L 26.207031 11.84375 L 27.945312 12.703125 C 31.53125 14.476562 32.316406 14.800781 33.03125 14.800781 C 33.976562 14.800781 33.78125 13.9375 32.472656 12.292969 C 28.519531 7.355469 25.394531 5.925781 21.921875 7.472656 L 21.558594 7.636719 L 21.578125 7.542969 C 21.699219 6.992188 21.761719 5.742188 21.699219 5.164062 C 21.496094 3.296875 20.664062 1.964844 19.003906 0.855469 C 18.480469 0.503906 18.457031 0.5 18.214844 0.632812\"/>\n",
              "</g>\n",
              "      </svg>\n",
              "    "
            ]
          },
          "metadata": {}
        }
      ]
    },
    {
      "cell_type": "code",
      "source": [
        "import ColabTurtle.Turtle as CT\n",
        "import numpy as np\n",
        "\n",
        "CT.initializeTurtle(initial_window_size=(300,300), initial_speed=10)\n",
        "\n",
        "CT.color(\"white\")\n",
        "CT.pen_width=2\n",
        "\n",
        "# 畫一個正六邊形\n",
        "n=6\n",
        "# 每條線要轉 360/6=60 度\n",
        "theta=360./n\n",
        "# 每個邊的長度是 w0\n",
        "w0=140.\n",
        "# 可以算出多邊形頂點到中心的距離 R\n",
        "R=(w0/2.)/np.sin(theta/2.* np.pi /180.)\n",
        "\n",
        "# 要畫 n1 個多邊形\n",
        "# 每個多邊形差異角度 theta1\n",
        "n1=36\n",
        "theta1=360/n1\n",
        "\n",
        "# 先將海龜移到最上方的頂點\n",
        "CT.penup()\n",
        "CT.forward(R)\n",
        "# 轉個方向準備畫線\n",
        "theta2=90.+theta/2.\n",
        "CT.right(theta2)\n",
        "CT.pendown()\n",
        "\n",
        "for j in range(n1):\n",
        "  # 先畫一個\n",
        "  for i in range(n):\n",
        "    CT.forward(w0)\n",
        "    CT.right(theta)\n",
        "\n",
        "  # 回到原點\n",
        "  CT.penup()\n",
        "  CT.home()\n",
        "  # 把多邊形縮小一點，讓下一個多邊形剛剛好碰到上一個\n",
        "  # 推導有點難，歡迎大家挑戰\n",
        "  w0=w0*(np.sin((90-theta/2.)*np.pi/180.)\n",
        "    /np.sin((90+theta/2.-theta1)*np.pi/180.))\n",
        "  R=(w0/2)/np.sin(theta/2.* np.pi /180.)\n",
        "  # 轉個角度再出發\n",
        "  CT.right(theta1*(j+1))\n",
        "  CT.forward(R)\n",
        "  CT.right(theta2)\n",
        "  CT.pendown()\n",
        "\n",
        "CT.hideturtle()"
      ],
      "metadata": {
        "colab": {
          "base_uri": "https://localhost:8080/",
          "height": 321
        },
        "id": "ynLGFJmoIZY6",
        "outputId": "d5d925b1-5129-409a-a15d-d8946f5cb222"
      },
      "execution_count": null,
      "outputs": [
        {
          "output_type": "display_data",
          "data": {
            "text/plain": [
              "<IPython.core.display.HTML object>"
            ],
            "text/html": [
              "\n",
              "      <svg width=\"300\" height=\"300\">\n",
              "        <rect width=\"100%\" height=\"100%\" fill=\"black\"/>\n",
              "        <line x1=\"150.0\" y1=\"10.0\" x2=\"271.244\" y2=\"80.0\" stroke-linecap=\"round\" style=\"stroke:white;stroke-width:2\"/><line x1=\"271.244\" y1=\"80.0\" x2=\"271.244\" y2=\"220.0\" stroke-linecap=\"round\" style=\"stroke:white;stroke-width:2\"/><line x1=\"271.244\" y1=\"220.0\" x2=\"150.0\" y2=\"290.0\" stroke-linecap=\"round\" style=\"stroke:white;stroke-width:2\"/><line x1=\"150.0\" y1=\"290.0\" x2=\"28.756\" y2=\"220.0\" stroke-linecap=\"round\" style=\"stroke:white;stroke-width:2\"/><line x1=\"28.756\" y1=\"220.0\" x2=\"28.756\" y2=\"80.0\" stroke-linecap=\"round\" style=\"stroke:white;stroke-width:2\"/><line x1=\"28.756\" y1=\"80.0\" x2=\"150.0\" y2=\"10.0\" stroke-linecap=\"round\" style=\"stroke:white;stroke-width:2\"/><line x1=\"172.405\" y1=\"22.935\" x2=\"271.244\" y2=\"105.87\" stroke-linecap=\"round\" style=\"stroke:white;stroke-width:2\"/><line x1=\"271.244\" y1=\"105.87\" x2=\"248.839\" y2=\"232.935\" stroke-linecap=\"round\" style=\"stroke:white;stroke-width:2\"/><line x1=\"248.839\" y1=\"232.935\" x2=\"127.595\" y2=\"277.064\" stroke-linecap=\"round\" style=\"stroke:white;stroke-width:2\"/><line x1=\"127.595\" y1=\"277.064\" x2=\"28.756\" y2=\"194.129\" stroke-linecap=\"round\" style=\"stroke:white;stroke-width:2\"/><line x1=\"28.756\" y1=\"194.129\" x2=\"51.161\" y2=\"67.064\" stroke-linecap=\"round\" style=\"stroke:white;stroke-width:2\"/><line x1=\"51.161\" y1=\"67.064\" x2=\"172.405\" y2=\"22.935\" stroke-linecap=\"round\" style=\"stroke:white;stroke-width:2\"/><line x1=\"190.67\" y1=\"38.261\" x2=\"267.104\" y2=\"129.351\" stroke-linecap=\"round\" style=\"stroke:white;stroke-width:2\"/><line x1=\"267.104\" y1=\"129.351\" x2=\"226.434\" y2=\"241.09\" stroke-linecap=\"round\" style=\"stroke:white;stroke-width:2\"/><line x1=\"226.434\" y1=\"241.09\" x2=\"109.331\" y2=\"261.738\" stroke-linecap=\"round\" style=\"stroke:white;stroke-width:2\"/><line x1=\"109.331\" y1=\"261.738\" x2=\"32.897\" y2=\"170.648\" stroke-linecap=\"round\" style=\"stroke:white;stroke-width:2\"/><line x1=\"32.897\" y1=\"170.648\" x2=\"73.567\" y2=\"58.909\" stroke-linecap=\"round\" style=\"stroke:white;stroke-width:2\"/><line x1=\"73.567\" y1=\"58.909\" x2=\"190.67\" y2=\"38.261\" stroke-linecap=\"round\" style=\"stroke:white;stroke-width:2\"/><line x1=\"204.794\" y1=\"55.094\" x2=\"259.588\" y2=\"150.0\" stroke-linecap=\"round\" style=\"stroke:white;stroke-width:2\"/><line x1=\"259.588\" y1=\"150.0\" x2=\"204.794\" y2=\"244.906\" stroke-linecap=\"round\" style=\"stroke:white;stroke-width:2\"/><line x1=\"204.794\" y1=\"244.906\" x2=\"95.206\" y2=\"244.906\" stroke-linecap=\"round\" style=\"stroke:white;stroke-width:2\"/><line x1=\"95.206\" y1=\"244.906\" x2=\"40.412\" y2=\"150.0\" stroke-linecap=\"round\" style=\"stroke:white;stroke-width:2\"/><line x1=\"40.412\" y1=\"150.0\" x2=\"95.206\" y2=\"55.094\" stroke-linecap=\"round\" style=\"stroke:white;stroke-width:2\"/><line x1=\"95.206\" y1=\"55.094\" x2=\"204.794\" y2=\"55.094\" stroke-linecap=\"round\" style=\"stroke:white;stroke-width:2\"/><line x1=\"214.919\" y1=\"72.632\" x2=\"249.462\" y2=\"167.538\" stroke-linecap=\"round\" style=\"stroke:white;stroke-width:2\"/><line x1=\"249.462\" y1=\"167.538\" x2=\"184.543\" y2=\"244.906\" stroke-linecap=\"round\" style=\"stroke:white;stroke-width:2\"/><line x1=\"184.543\" y1=\"244.906\" x2=\"85.081\" y2=\"227.368\" stroke-linecap=\"round\" style=\"stroke:white;stroke-width:2\"/><line x1=\"85.081\" y1=\"227.368\" x2=\"50.538\" y2=\"132.462\" stroke-linecap=\"round\" style=\"stroke:white;stroke-width:2\"/><line x1=\"50.538\" y1=\"132.462\" x2=\"115.457\" y2=\"55.094\" stroke-linecap=\"round\" style=\"stroke:white;stroke-width:2\"/><line x1=\"115.457\" y1=\"55.094\" x2=\"214.919\" y2=\"72.632\" stroke-linecap=\"round\" style=\"stroke:white;stroke-width:2\"/><line x1=\"221.303\" y1=\"90.17\" x2=\"237.466\" y2=\"181.835\" stroke-linecap=\"round\" style=\"stroke:white;stroke-width:2\"/><line x1=\"237.466\" y1=\"181.835\" x2=\"166.163\" y2=\"241.665\" stroke-linecap=\"round\" style=\"stroke:white;stroke-width:2\"/><line x1=\"166.163\" y1=\"241.665\" x2=\"78.697\" y2=\"209.83\" stroke-linecap=\"round\" style=\"stroke:white;stroke-width:2\"/><line x1=\"78.697\" y1=\"209.83\" x2=\"62.534\" y2=\"118.165\" stroke-linecap=\"round\" style=\"stroke:white;stroke-width:2\"/><line x1=\"62.534\" y1=\"118.165\" x2=\"133.837\" y2=\"58.335\" stroke-linecap=\"round\" style=\"stroke:white;stroke-width:2\"/><line x1=\"133.837\" y1=\"58.335\" x2=\"221.303\" y2=\"90.17\" stroke-linecap=\"round\" style=\"stroke:white;stroke-width:2\"/><line x1=\"224.29\" y1=\"107.109\" x2=\"224.29\" y2=\"192.891\" stroke-linecap=\"round\" style=\"stroke:white;stroke-width:2\"/><line x1=\"224.29\" y1=\"192.891\" x2=\"150.0\" y2=\"235.782\" stroke-linecap=\"round\" style=\"stroke:white;stroke-width:2\"/><line x1=\"150.0\" y1=\"235.782\" x2=\"75.71\" y2=\"192.891\" stroke-linecap=\"round\" style=\"stroke:white;stroke-width:2\"/><line x1=\"75.71\" y1=\"192.891\" x2=\"75.71\" y2=\"107.109\" stroke-linecap=\"round\" style=\"stroke:white;stroke-width:2\"/><line x1=\"75.71\" y1=\"107.109\" x2=\"150.0\" y2=\"64.218\" stroke-linecap=\"round\" style=\"stroke:white;stroke-width:2\"/><line x1=\"150.0\" y1=\"64.218\" x2=\"224.29\" y2=\"107.109\" stroke-linecap=\"round\" style=\"stroke:white;stroke-width:2\"/><line x1=\"224.29\" y1=\"122.961\" x2=\"210.562\" y2=\"200.817\" stroke-linecap=\"round\" style=\"stroke:white;stroke-width:2\"/><line x1=\"210.562\" y1=\"200.817\" x2=\"136.272\" y2=\"227.856\" stroke-linecap=\"round\" style=\"stroke:white;stroke-width:2\"/><line x1=\"136.272\" y1=\"227.856\" x2=\"75.711\" y2=\"177.039\" stroke-linecap=\"round\" style=\"stroke:white;stroke-width:2\"/><line x1=\"75.711\" y1=\"177.039\" x2=\"89.439\" y2=\"99.183\" stroke-linecap=\"round\" style=\"stroke:white;stroke-width:2\"/><line x1=\"89.439\" y1=\"99.183\" x2=\"163.729\" y2=\"72.144\" stroke-linecap=\"round\" style=\"stroke:white;stroke-width:2\"/><line x1=\"163.729\" y1=\"72.144\" x2=\"224.29\" y2=\"122.961\" stroke-linecap=\"round\" style=\"stroke:white;stroke-width:2\"/><line x1=\"221.753\" y1=\"137.348\" x2=\"196.834\" y2=\"205.814\" stroke-linecap=\"round\" style=\"stroke:white;stroke-width:2\"/><line x1=\"196.834\" y1=\"205.814\" x2=\"125.081\" y2=\"218.466\" stroke-linecap=\"round\" style=\"stroke:white;stroke-width:2\"/><line x1=\"125.081\" y1=\"218.466\" x2=\"78.248\" y2=\"162.652\" stroke-linecap=\"round\" style=\"stroke:white;stroke-width:2\"/><line x1=\"78.248\" y1=\"162.652\" x2=\"103.167\" y2=\"94.186\" stroke-linecap=\"round\" style=\"stroke:white;stroke-width:2\"/><line x1=\"103.167\" y1=\"94.186\" x2=\"174.92\" y2=\"81.534\" stroke-linecap=\"round\" style=\"stroke:white;stroke-width:2\"/><line x1=\"174.92\" y1=\"81.534\" x2=\"221.753\" y2=\"137.348\" stroke-linecap=\"round\" style=\"stroke:white;stroke-width:2\"/><line x1=\"217.148\" y1=\"150.0\" x2=\"183.574\" y2=\"208.152\" stroke-linecap=\"round\" style=\"stroke:white;stroke-width:2\"/><line x1=\"183.574\" y1=\"208.152\" x2=\"116.426\" y2=\"208.152\" stroke-linecap=\"round\" style=\"stroke:white;stroke-width:2\"/><line x1=\"116.426\" y1=\"208.152\" x2=\"82.852\" y2=\"150.0\" stroke-linecap=\"round\" style=\"stroke:white;stroke-width:2\"/><line x1=\"82.852\" y1=\"150.0\" x2=\"116.426\" y2=\"91.848\" stroke-linecap=\"round\" style=\"stroke:white;stroke-width:2\"/><line x1=\"116.426\" y1=\"91.848\" x2=\"183.574\" y2=\"91.848\" stroke-linecap=\"round\" style=\"stroke:white;stroke-width:2\"/><line x1=\"183.574\" y1=\"91.848\" x2=\"217.148\" y2=\"150.0\" stroke-linecap=\"round\" style=\"stroke:white;stroke-width:2\"/><line x1=\"210.944\" y1=\"160.746\" x2=\"171.166\" y2=\"208.152\" stroke-linecap=\"round\" style=\"stroke:white;stroke-width:2\"/><line x1=\"171.166\" y1=\"208.152\" x2=\"110.222\" y2=\"197.406\" stroke-linecap=\"round\" style=\"stroke:white;stroke-width:2\"/><line x1=\"110.222\" y1=\"197.406\" x2=\"89.057\" y2=\"139.254\" stroke-linecap=\"round\" style=\"stroke:white;stroke-width:2\"/><line x1=\"89.057\" y1=\"139.254\" x2=\"128.835\" y2=\"91.848\" stroke-linecap=\"round\" style=\"stroke:white;stroke-width:2\"/><line x1=\"128.835\" y1=\"91.848\" x2=\"189.779\" y2=\"102.594\" stroke-linecap=\"round\" style=\"stroke:white;stroke-width:2\"/><line x1=\"189.779\" y1=\"102.594\" x2=\"210.944\" y2=\"160.746\" stroke-linecap=\"round\" style=\"stroke:white;stroke-width:2\"/><line x1=\"203.593\" y1=\"169.506\" x2=\"159.904\" y2=\"206.166\" stroke-linecap=\"round\" style=\"stroke:white;stroke-width:2\"/><line x1=\"159.904\" y1=\"206.166\" x2=\"106.311\" y2=\"186.66\" stroke-linecap=\"round\" style=\"stroke:white;stroke-width:2\"/><line x1=\"106.311\" y1=\"186.66\" x2=\"96.407\" y2=\"130.494\" stroke-linecap=\"round\" style=\"stroke:white;stroke-width:2\"/><line x1=\"96.407\" y1=\"130.494\" x2=\"140.096\" y2=\"93.834\" stroke-linecap=\"round\" style=\"stroke:white;stroke-width:2\"/><line x1=\"140.096\" y1=\"93.834\" x2=\"193.689\" y2=\"113.34\" stroke-linecap=\"round\" style=\"stroke:white;stroke-width:2\"/><line x1=\"193.689\" y1=\"113.34\" x2=\"203.593\" y2=\"169.506\" stroke-linecap=\"round\" style=\"stroke:white;stroke-width:2\"/><line x1=\"195.519\" y1=\"176.281\" x2=\"150.0\" y2=\"202.562\" stroke-linecap=\"round\" style=\"stroke:white;stroke-width:2\"/><line x1=\"150.0\" y1=\"202.562\" x2=\"104.481\" y2=\"176.281\" stroke-linecap=\"round\" style=\"stroke:white;stroke-width:2\"/><line x1=\"104.481\" y1=\"176.281\" x2=\"104.481\" y2=\"123.72\" stroke-linecap=\"round\" style=\"stroke:white;stroke-width:2\"/><line x1=\"104.481\" y1=\"123.72\" x2=\"150.0\" y2=\"97.439\" stroke-linecap=\"round\" style=\"stroke:white;stroke-width:2\"/><line x1=\"150.0\" y1=\"97.439\" x2=\"195.519\" y2=\"123.72\" stroke-linecap=\"round\" style=\"stroke:white;stroke-width:2\"/><line x1=\"195.519\" y1=\"123.72\" x2=\"195.519\" y2=\"176.281\" stroke-linecap=\"round\" style=\"stroke:white;stroke-width:2\"/><line x1=\"187.108\" y1=\"181.137\" x2=\"141.589\" y2=\"197.705\" stroke-linecap=\"round\" style=\"stroke:white;stroke-width:2\"/><line x1=\"141.589\" y1=\"197.705\" x2=\"104.481\" y2=\"166.568\" stroke-linecap=\"round\" style=\"stroke:white;stroke-width:2\"/><line x1=\"104.481\" y1=\"166.568\" x2=\"112.893\" y2=\"118.863\" stroke-linecap=\"round\" style=\"stroke:white;stroke-width:2\"/><line x1=\"112.893\" y1=\"118.863\" x2=\"158.412\" y2=\"102.295\" stroke-linecap=\"round\" style=\"stroke:white;stroke-width:2\"/><line x1=\"158.412\" y1=\"102.295\" x2=\"195.52\" y2=\"133.432\" stroke-linecap=\"round\" style=\"stroke:white;stroke-width:2\"/><line x1=\"195.52\" y1=\"133.432\" x2=\"187.108\" y2=\"181.137\" stroke-linecap=\"round\" style=\"stroke:white;stroke-width:2\"/><line x1=\"178.696\" y1=\"184.199\" x2=\"134.731\" y2=\"191.951\" stroke-linecap=\"round\" style=\"stroke:white;stroke-width:2\"/><line x1=\"134.731\" y1=\"191.951\" x2=\"106.035\" y2=\"157.752\" stroke-linecap=\"round\" style=\"stroke:white;stroke-width:2\"/><line x1=\"106.035\" y1=\"157.752\" x2=\"121.304\" y2=\"115.801\" stroke-linecap=\"round\" style=\"stroke:white;stroke-width:2\"/><line x1=\"121.304\" y1=\"115.801\" x2=\"165.269\" y2=\"108.049\" stroke-linecap=\"round\" style=\"stroke:white;stroke-width:2\"/><line x1=\"165.269\" y1=\"108.049\" x2=\"193.965\" y2=\"142.248\" stroke-linecap=\"round\" style=\"stroke:white;stroke-width:2\"/><line x1=\"193.965\" y1=\"142.248\" x2=\"178.696\" y2=\"184.199\" stroke-linecap=\"round\" style=\"stroke:white;stroke-width:2\"/><line x1=\"170.572\" y1=\"185.631\" x2=\"129.429\" y2=\"185.631\" stroke-linecap=\"round\" style=\"stroke:white;stroke-width:2\"/><line x1=\"129.429\" y1=\"185.631\" x2=\"108.857\" y2=\"150.0\" stroke-linecap=\"round\" style=\"stroke:white;stroke-width:2\"/><line x1=\"108.857\" y1=\"150.0\" x2=\"129.429\" y2=\"114.369\" stroke-linecap=\"round\" style=\"stroke:white;stroke-width:2\"/><line x1=\"129.429\" y1=\"114.369\" x2=\"170.572\" y2=\"114.369\" stroke-linecap=\"round\" style=\"stroke:white;stroke-width:2\"/><line x1=\"170.572\" y1=\"114.369\" x2=\"191.144\" y2=\"150.0\" stroke-linecap=\"round\" style=\"stroke:white;stroke-width:2\"/><line x1=\"191.144\" y1=\"150.0\" x2=\"170.572\" y2=\"185.631\" stroke-linecap=\"round\" style=\"stroke:white;stroke-width:2\"/><line x1=\"162.969\" y1=\"185.631\" x2=\"125.627\" y2=\"179.047\" stroke-linecap=\"round\" style=\"stroke:white;stroke-width:2\"/><line x1=\"125.627\" y1=\"179.047\" x2=\"112.658\" y2=\"143.416\" stroke-linecap=\"round\" style=\"stroke:white;stroke-width:2\"/><line x1=\"112.658\" y1=\"143.416\" x2=\"137.031\" y2=\"114.369\" stroke-linecap=\"round\" style=\"stroke:white;stroke-width:2\"/><line x1=\"137.031\" y1=\"114.369\" x2=\"174.373\" y2=\"120.953\" stroke-linecap=\"round\" style=\"stroke:white;stroke-width:2\"/><line x1=\"174.373\" y1=\"120.953\" x2=\"187.342\" y2=\"156.584\" stroke-linecap=\"round\" style=\"stroke:white;stroke-width:2\"/><line x1=\"187.342\" y1=\"156.584\" x2=\"162.969\" y2=\"185.631\" stroke-linecap=\"round\" style=\"stroke:white;stroke-width:2\"/><line x1=\"156.068\" y1=\"184.414\" x2=\"123.23\" y2=\"172.462\" stroke-linecap=\"round\" style=\"stroke:white;stroke-width:2\"/><line x1=\"123.23\" y1=\"172.462\" x2=\"117.162\" y2=\"138.048\" stroke-linecap=\"round\" style=\"stroke:white;stroke-width:2\"/><line x1=\"117.162\" y1=\"138.048\" x2=\"143.932\" y2=\"115.586\" stroke-linecap=\"round\" style=\"stroke:white;stroke-width:2\"/><line x1=\"143.932\" y1=\"115.586\" x2=\"176.77\" y2=\"127.538\" stroke-linecap=\"round\" style=\"stroke:white;stroke-width:2\"/><line x1=\"176.77\" y1=\"127.538\" x2=\"182.838\" y2=\"161.952\" stroke-linecap=\"round\" style=\"stroke:white;stroke-width:2\"/><line x1=\"182.838\" y1=\"161.952\" x2=\"156.068\" y2=\"184.414\" stroke-linecap=\"round\" style=\"stroke:white;stroke-width:2\"/><line x1=\"150.0\" y1=\"182.206\" x2=\"122.109\" y2=\"166.103\" stroke-linecap=\"round\" style=\"stroke:white;stroke-width:2\"/><line x1=\"122.109\" y1=\"166.103\" x2=\"122.109\" y2=\"133.897\" stroke-linecap=\"round\" style=\"stroke:white;stroke-width:2\"/><line x1=\"122.109\" y1=\"133.897\" x2=\"150.0\" y2=\"117.794\" stroke-linecap=\"round\" style=\"stroke:white;stroke-width:2\"/><line x1=\"150.0\" y1=\"117.794\" x2=\"177.891\" y2=\"133.897\" stroke-linecap=\"round\" style=\"stroke:white;stroke-width:2\"/><line x1=\"177.891\" y1=\"133.897\" x2=\"177.891\" y2=\"166.103\" stroke-linecap=\"round\" style=\"stroke:white;stroke-width:2\"/><line x1=\"177.891\" y1=\"166.103\" x2=\"150.0\" y2=\"182.206\" stroke-linecap=\"round\" style=\"stroke:white;stroke-width:2\"/><line x1=\"144.846\" y1=\"179.23\" x2=\"122.109\" y2=\"160.151\" stroke-linecap=\"round\" style=\"stroke:white;stroke-width:2\"/><line x1=\"122.109\" y1=\"160.151\" x2=\"127.263\" y2=\"130.921\" stroke-linecap=\"round\" style=\"stroke:white;stroke-width:2\"/><line x1=\"127.263\" y1=\"130.921\" x2=\"155.154\" y2=\"120.769\" stroke-linecap=\"round\" style=\"stroke:white;stroke-width:2\"/><line x1=\"155.154\" y1=\"120.769\" x2=\"177.891\" y2=\"139.848\" stroke-linecap=\"round\" style=\"stroke:white;stroke-width:2\"/><line x1=\"177.891\" y1=\"139.848\" x2=\"172.737\" y2=\"169.078\" stroke-linecap=\"round\" style=\"stroke:white;stroke-width:2\"/><line x1=\"172.737\" y1=\"169.078\" x2=\"144.846\" y2=\"179.23\" stroke-linecap=\"round\" style=\"stroke:white;stroke-width:2\"/><line x1=\"140.644\" y1=\"175.705\" x2=\"123.061\" y2=\"154.75\" stroke-linecap=\"round\" style=\"stroke:white;stroke-width:2\"/><line x1=\"123.061\" y1=\"154.75\" x2=\"132.417\" y2=\"129.045\" stroke-linecap=\"round\" style=\"stroke:white;stroke-width:2\"/><line x1=\"132.417\" y1=\"129.045\" x2=\"159.356\" y2=\"124.295\" stroke-linecap=\"round\" style=\"stroke:white;stroke-width:2\"/><line x1=\"159.356\" y1=\"124.295\" x2=\"176.939\" y2=\"145.25\" stroke-linecap=\"round\" style=\"stroke:white;stroke-width:2\"/><line x1=\"176.939\" y1=\"145.25\" x2=\"167.583\" y2=\"170.955\" stroke-linecap=\"round\" style=\"stroke:white;stroke-width:2\"/><line x1=\"167.583\" y1=\"170.955\" x2=\"140.644\" y2=\"175.705\" stroke-linecap=\"round\" style=\"stroke:white;stroke-width:2\"/><line x1=\"137.395\" y1=\"171.832\" x2=\"124.79\" y2=\"150.0\" stroke-linecap=\"round\" style=\"stroke:white;stroke-width:2\"/><line x1=\"124.79\" y1=\"150.0\" x2=\"137.395\" y2=\"128.168\" stroke-linecap=\"round\" style=\"stroke:white;stroke-width:2\"/><line x1=\"137.395\" y1=\"128.168\" x2=\"162.605\" y2=\"128.168\" stroke-linecap=\"round\" style=\"stroke:white;stroke-width:2\"/><line x1=\"162.605\" y1=\"128.168\" x2=\"175.21\" y2=\"150.0\" stroke-linecap=\"round\" style=\"stroke:white;stroke-width:2\"/><line x1=\"175.21\" y1=\"150.0\" x2=\"162.605\" y2=\"171.832\" stroke-linecap=\"round\" style=\"stroke:white;stroke-width:2\"/><line x1=\"162.605\" y1=\"171.832\" x2=\"137.395\" y2=\"171.832\" stroke-linecap=\"round\" style=\"stroke:white;stroke-width:2\"/><line x1=\"135.066\" y1=\"167.798\" x2=\"127.12\" y2=\"145.966\" stroke-linecap=\"round\" style=\"stroke:white;stroke-width:2\"/><line x1=\"127.12\" y1=\"145.966\" x2=\"142.054\" y2=\"128.168\" stroke-linecap=\"round\" style=\"stroke:white;stroke-width:2\"/><line x1=\"142.054\" y1=\"128.168\" x2=\"164.934\" y2=\"132.202\" stroke-linecap=\"round\" style=\"stroke:white;stroke-width:2\"/><line x1=\"164.934\" y1=\"132.202\" x2=\"172.88\" y2=\"154.034\" stroke-linecap=\"round\" style=\"stroke:white;stroke-width:2\"/><line x1=\"172.88\" y1=\"154.034\" x2=\"157.946\" y2=\"171.832\" stroke-linecap=\"round\" style=\"stroke:white;stroke-width:2\"/><line x1=\"157.946\" y1=\"171.832\" x2=\"135.066\" y2=\"167.798\" stroke-linecap=\"round\" style=\"stroke:white;stroke-width:2\"/><line x1=\"133.597\" y1=\"163.763\" x2=\"129.879\" y2=\"142.676\" stroke-linecap=\"round\" style=\"stroke:white;stroke-width:2\"/><line x1=\"129.879\" y1=\"142.676\" x2=\"146.282\" y2=\"128.913\" stroke-linecap=\"round\" style=\"stroke:white;stroke-width:2\"/><line x1=\"146.282\" y1=\"128.913\" x2=\"166.403\" y2=\"136.236\" stroke-linecap=\"round\" style=\"stroke:white;stroke-width:2\"/><line x1=\"166.403\" y1=\"136.236\" x2=\"170.121\" y2=\"157.323\" stroke-linecap=\"round\" style=\"stroke:white;stroke-width:2\"/><line x1=\"170.121\" y1=\"157.323\" x2=\"153.718\" y2=\"171.086\" stroke-linecap=\"round\" style=\"stroke:white;stroke-width:2\"/><line x1=\"153.718\" y1=\"171.086\" x2=\"133.597\" y2=\"163.763\" stroke-linecap=\"round\" style=\"stroke:white;stroke-width:2\"/><line x1=\"132.91\" y1=\"159.867\" x2=\"132.91\" y2=\"140.134\" stroke-linecap=\"round\" style=\"stroke:white;stroke-width:2\"/><line x1=\"132.91\" y1=\"140.134\" x2=\"150.0\" y2=\"130.267\" stroke-linecap=\"round\" style=\"stroke:white;stroke-width:2\"/><line x1=\"150.0\" y1=\"130.267\" x2=\"167.09\" y2=\"140.134\" stroke-linecap=\"round\" style=\"stroke:white;stroke-width:2\"/><line x1=\"167.09\" y1=\"140.134\" x2=\"167.09\" y2=\"159.867\" stroke-linecap=\"round\" style=\"stroke:white;stroke-width:2\"/><line x1=\"167.09\" y1=\"159.867\" x2=\"150.0\" y2=\"169.734\" stroke-linecap=\"round\" style=\"stroke:white;stroke-width:2\"/><line x1=\"150.0\" y1=\"169.734\" x2=\"132.91\" y2=\"159.867\" stroke-linecap=\"round\" style=\"stroke:white;stroke-width:2\"/><line x1=\"132.91\" y1=\"156.22\" x2=\"136.068\" y2=\"138.31\" stroke-linecap=\"round\" style=\"stroke:white;stroke-width:2\"/><line x1=\"136.068\" y1=\"138.31\" x2=\"153.158\" y2=\"132.09\" stroke-linecap=\"round\" style=\"stroke:white;stroke-width:2\"/><line x1=\"153.158\" y1=\"132.09\" x2=\"167.09\" y2=\"143.78\" stroke-linecap=\"round\" style=\"stroke:white;stroke-width:2\"/><line x1=\"167.09\" y1=\"143.78\" x2=\"163.932\" y2=\"161.69\" stroke-linecap=\"round\" style=\"stroke:white;stroke-width:2\"/><line x1=\"163.932\" y1=\"161.69\" x2=\"146.842\" y2=\"167.91\" stroke-linecap=\"round\" style=\"stroke:white;stroke-width:2\"/><line x1=\"146.842\" y1=\"167.91\" x2=\"132.91\" y2=\"156.22\" stroke-linecap=\"round\" style=\"stroke:white;stroke-width:2\"/><line x1=\"133.494\" y1=\"152.91\" x2=\"139.227\" y2=\"137.16\" stroke-linecap=\"round\" style=\"stroke:white;stroke-width:2\"/><line x1=\"139.227\" y1=\"137.16\" x2=\"155.733\" y2=\"134.25\" stroke-linecap=\"round\" style=\"stroke:white;stroke-width:2\"/><line x1=\"155.733\" y1=\"134.25\" x2=\"166.507\" y2=\"147.089\" stroke-linecap=\"round\" style=\"stroke:white;stroke-width:2\"/><line x1=\"166.507\" y1=\"147.089\" x2=\"160.774\" y2=\"162.839\" stroke-linecap=\"round\" style=\"stroke:white;stroke-width:2\"/><line x1=\"160.774\" y1=\"162.839\" x2=\"144.268\" y2=\"165.749\" stroke-linecap=\"round\" style=\"stroke:white;stroke-width:2\"/><line x1=\"144.268\" y1=\"165.749\" x2=\"133.494\" y2=\"152.91\" stroke-linecap=\"round\" style=\"stroke:white;stroke-width:2\"/><line x1=\"134.553\" y1=\"150.0\" x2=\"142.276\" y2=\"136.623\" stroke-linecap=\"round\" style=\"stroke:white;stroke-width:2\"/><line x1=\"142.276\" y1=\"136.623\" x2=\"157.723\" y2=\"136.623\" stroke-linecap=\"round\" style=\"stroke:white;stroke-width:2\"/><line x1=\"157.723\" y1=\"136.623\" x2=\"165.446\" y2=\"150.0\" stroke-linecap=\"round\" style=\"stroke:white;stroke-width:2\"/><line x1=\"165.446\" y1=\"150.0\" x2=\"157.723\" y2=\"163.377\" stroke-linecap=\"round\" style=\"stroke:white;stroke-width:2\"/><line x1=\"157.723\" y1=\"163.377\" x2=\"142.276\" y2=\"163.377\" stroke-linecap=\"round\" style=\"stroke:white;stroke-width:2\"/><line x1=\"142.276\" y1=\"163.377\" x2=\"134.553\" y2=\"150.0\" stroke-linecap=\"round\" style=\"stroke:white;stroke-width:2\"/><line x1=\"135.98\" y1=\"147.528\" x2=\"145.131\" y2=\"136.623\" stroke-linecap=\"round\" style=\"stroke:white;stroke-width:2\"/><line x1=\"145.131\" y1=\"136.623\" x2=\"159.151\" y2=\"139.095\" stroke-linecap=\"round\" style=\"stroke:white;stroke-width:2\"/><line x1=\"159.151\" y1=\"139.095\" x2=\"164.02\" y2=\"152.472\" stroke-linecap=\"round\" style=\"stroke:white;stroke-width:2\"/><line x1=\"164.02\" y1=\"152.472\" x2=\"154.869\" y2=\"163.377\" stroke-linecap=\"round\" style=\"stroke:white;stroke-width:2\"/><line x1=\"154.869\" y1=\"163.377\" x2=\"140.849\" y2=\"160.905\" stroke-linecap=\"round\" style=\"stroke:white;stroke-width:2\"/><line x1=\"140.849\" y1=\"160.905\" x2=\"135.98\" y2=\"147.528\" stroke-linecap=\"round\" style=\"stroke:white;stroke-width:2\"/><line x1=\"137.671\" y1=\"145.513\" x2=\"147.721\" y2=\"137.08\" stroke-linecap=\"round\" style=\"stroke:white;stroke-width:2\"/><line x1=\"147.721\" y1=\"137.08\" x2=\"160.05\" y2=\"141.567\" stroke-linecap=\"round\" style=\"stroke:white;stroke-width:2\"/><line x1=\"160.05\" y1=\"141.567\" x2=\"162.328\" y2=\"154.487\" stroke-linecap=\"round\" style=\"stroke:white;stroke-width:2\"/><line x1=\"162.328\" y1=\"154.487\" x2=\"152.278\" y2=\"162.92\" stroke-linecap=\"round\" style=\"stroke:white;stroke-width:2\"/><line x1=\"152.278\" y1=\"162.92\" x2=\"139.949\" y2=\"158.433\" stroke-linecap=\"round\" style=\"stroke:white;stroke-width:2\"/><line x1=\"139.949\" y1=\"158.433\" x2=\"137.671\" y2=\"145.513\" stroke-linecap=\"round\" style=\"stroke:white;stroke-width:2\"/><line x1=\"139.529\" y1=\"143.954\" x2=\"150.0\" y2=\"137.908\" stroke-linecap=\"round\" style=\"stroke:white;stroke-width:2\"/><line x1=\"150.0\" y1=\"137.908\" x2=\"160.471\" y2=\"143.954\" stroke-linecap=\"round\" style=\"stroke:white;stroke-width:2\"/><line x1=\"160.471\" y1=\"143.954\" x2=\"160.471\" y2=\"156.045\" stroke-linecap=\"round\" style=\"stroke:white;stroke-width:2\"/><line x1=\"160.471\" y1=\"156.045\" x2=\"150.0\" y2=\"162.091\" stroke-linecap=\"round\" style=\"stroke:white;stroke-width:2\"/><line x1=\"150.0\" y1=\"162.091\" x2=\"139.529\" y2=\"156.045\" stroke-linecap=\"round\" style=\"stroke:white;stroke-width:2\"/><line x1=\"139.529\" y1=\"156.045\" x2=\"139.529\" y2=\"143.954\" stroke-linecap=\"round\" style=\"stroke:white;stroke-width:2\"/><line x1=\"141.464\" y1=\"142.837\" x2=\"151.935\" y2=\"139.026\" stroke-linecap=\"round\" style=\"stroke:white;stroke-width:2\"/><line x1=\"151.935\" y1=\"139.026\" x2=\"160.471\" y2=\"146.189\" stroke-linecap=\"round\" style=\"stroke:white;stroke-width:2\"/><line x1=\"160.471\" y1=\"146.189\" x2=\"158.536\" y2=\"157.163\" stroke-linecap=\"round\" style=\"stroke:white;stroke-width:2\"/><line x1=\"158.536\" y1=\"157.163\" x2=\"148.065\" y2=\"160.974\" stroke-linecap=\"round\" style=\"stroke:white;stroke-width:2\"/><line x1=\"148.065\" y1=\"160.974\" x2=\"139.529\" y2=\"153.811\" stroke-linecap=\"round\" style=\"stroke:white;stroke-width:2\"/><line x1=\"139.529\" y1=\"153.811\" x2=\"141.464\" y2=\"142.837\" stroke-linecap=\"round\" style=\"stroke:white;stroke-width:2\"/><line x1=\"143.399\" y1=\"142.133\" x2=\"153.513\" y2=\"140.35\" stroke-linecap=\"round\" style=\"stroke:white;stroke-width:2\"/><line x1=\"153.513\" y1=\"140.35\" x2=\"160.114\" y2=\"148.217\" stroke-linecap=\"round\" style=\"stroke:white;stroke-width:2\"/><line x1=\"160.114\" y1=\"148.217\" x2=\"156.602\" y2=\"157.867\" stroke-linecap=\"round\" style=\"stroke:white;stroke-width:2\"/><line x1=\"156.602\" y1=\"157.867\" x2=\"146.488\" y2=\"159.65\" stroke-linecap=\"round\" style=\"stroke:white;stroke-width:2\"/><line x1=\"146.488\" y1=\"159.65\" x2=\"139.887\" y2=\"151.783\" stroke-linecap=\"round\" style=\"stroke:white;stroke-width:2\"/><line x1=\"139.887\" y1=\"151.783\" x2=\"143.399\" y2=\"142.133\" stroke-linecap=\"round\" style=\"stroke:white;stroke-width:2\"/><line x1=\"145.268\" y1=\"141.803\" x2=\"154.733\" y2=\"141.803\" stroke-linecap=\"round\" style=\"stroke:white;stroke-width:2\"/><line x1=\"154.733\" y1=\"141.803\" x2=\"159.465\" y2=\"150.0\" stroke-linecap=\"round\" style=\"stroke:white;stroke-width:2\"/><line x1=\"159.465\" y1=\"150.0\" x2=\"154.733\" y2=\"158.197\" stroke-linecap=\"round\" style=\"stroke:white;stroke-width:2\"/><line x1=\"154.733\" y1=\"158.197\" x2=\"145.268\" y2=\"158.197\" stroke-linecap=\"round\" style=\"stroke:white;stroke-width:2\"/><line x1=\"145.268\" y1=\"158.197\" x2=\"140.536\" y2=\"150.0\" stroke-linecap=\"round\" style=\"stroke:white;stroke-width:2\"/><line x1=\"140.536\" y1=\"150.0\" x2=\"145.268\" y2=\"141.803\" stroke-linecap=\"round\" style=\"stroke:white;stroke-width:2\"/><line x1=\"147.017\" y1=\"141.803\" x2=\"155.607\" y2=\"143.318\" stroke-linecap=\"round\" style=\"stroke:white;stroke-width:2\"/><line x1=\"155.607\" y1=\"143.318\" x2=\"158.59\" y2=\"151.515\" stroke-linecap=\"round\" style=\"stroke:white;stroke-width:2\"/><line x1=\"158.59\" y1=\"151.515\" x2=\"152.983\" y2=\"158.197\" stroke-linecap=\"round\" style=\"stroke:white;stroke-width:2\"/><line x1=\"152.983\" y1=\"158.197\" x2=\"144.393\" y2=\"156.682\" stroke-linecap=\"round\" style=\"stroke:white;stroke-width:2\"/><line x1=\"144.393\" y1=\"156.682\" x2=\"141.41\" y2=\"148.485\" stroke-linecap=\"round\" style=\"stroke:white;stroke-width:2\"/><line x1=\"141.41\" y1=\"148.485\" x2=\"147.017\" y2=\"141.803\" stroke-linecap=\"round\" style=\"stroke:white;stroke-width:2\"/><line x1=\"148.604\" y1=\"142.083\" x2=\"156.158\" y2=\"144.832\" stroke-linecap=\"round\" style=\"stroke:white;stroke-width:2\"/><line x1=\"156.158\" y1=\"144.832\" x2=\"157.554\" y2=\"152.749\" stroke-linecap=\"round\" style=\"stroke:white;stroke-width:2\"/><line x1=\"157.554\" y1=\"152.749\" x2=\"151.396\" y2=\"157.916\" stroke-linecap=\"round\" style=\"stroke:white;stroke-width:2\"/><line x1=\"151.396\" y1=\"157.916\" x2=\"143.842\" y2=\"155.167\" stroke-linecap=\"round\" style=\"stroke:white;stroke-width:2\"/><line x1=\"143.842\" y1=\"155.167\" x2=\"142.446\" y2=\"147.25\" stroke-linecap=\"round\" style=\"stroke:white;stroke-width:2\"/><line x1=\"142.446\" y1=\"147.25\" x2=\"148.604\" y2=\"142.083\" stroke-linecap=\"round\" style=\"stroke:white;stroke-width:2\"/>\n",
              "        <g visibility=hidden transform=\"rotate(120.0,150.0,142.591) translate(132.0, 124.59100000000001)\">\n",
              "<path style=\" stroke:none;fill-rule:evenodd;fill:white;fill-opacity:1;\" d=\"M 18.214844 0.632812 C 16.109375 1.800781 15.011719 4.074219 15.074219 7.132812 L 15.085938 7.652344 L 14.785156 7.496094 C 13.476562 6.824219 11.957031 6.671875 10.40625 7.066406 C 8.46875 7.550781 6.515625 9.15625 4.394531 11.992188 C 3.0625 13.777344 2.679688 14.636719 3.042969 15.027344 L 3.15625 15.152344 L 3.519531 15.152344 C 4.238281 15.152344 4.828125 14.886719 8.1875 13.039062 C 9.386719 12.378906 10.371094 11.839844 10.378906 11.839844 C 10.386719 11.839844 10.355469 11.929688 10.304688 12.035156 C 9.832031 13.09375 9.257812 14.820312 8.96875 16.078125 C 7.914062 20.652344 8.617188 24.53125 11.070312 27.660156 C 11.351562 28.015625 11.363281 27.914062 10.972656 28.382812 C 8.925781 30.84375 7.945312 33.28125 8.238281 35.1875 C 8.289062 35.527344 8.28125 35.523438 8.917969 35.523438 C 10.941406 35.523438 13.074219 34.207031 15.136719 31.6875 C 15.359375 31.417969 15.328125 31.425781 15.5625 31.574219 C 16.292969 32.042969 18.023438 32.964844 18.175781 32.964844 C 18.335938 32.964844 19.941406 32.210938 20.828125 31.71875 C 20.996094 31.625 21.136719 31.554688 21.136719 31.558594 C 21.203125 31.664062 21.898438 32.414062 22.222656 32.730469 C 23.835938 34.300781 25.5625 35.132812 27.582031 35.300781 C 27.90625 35.328125 27.9375 35.308594 28.007812 34.984375 C 28.382812 33.242188 27.625 30.925781 25.863281 28.425781 L 25.542969 27.96875 L 25.699219 27.785156 C 28.945312 23.960938 29.132812 18.699219 26.257812 11.96875 L 26.207031 11.84375 L 27.945312 12.703125 C 31.53125 14.476562 32.316406 14.800781 33.03125 14.800781 C 33.976562 14.800781 33.78125 13.9375 32.472656 12.292969 C 28.519531 7.355469 25.394531 5.925781 21.921875 7.472656 L 21.558594 7.636719 L 21.578125 7.542969 C 21.699219 6.992188 21.761719 5.742188 21.699219 5.164062 C 21.496094 3.296875 20.664062 1.964844 19.003906 0.855469 C 18.480469 0.503906 18.457031 0.5 18.214844 0.632812\"/>\n",
              "</g>\n",
              "      </svg>\n",
              "    "
            ]
          },
          "metadata": {}
        }
      ]
    }
  ]
}