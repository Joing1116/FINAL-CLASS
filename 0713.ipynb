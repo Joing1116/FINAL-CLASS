{
  "nbformat": 4,
  "nbformat_minor": 0,
  "metadata": {
    "colab": {
      "provenance": [],
      "authorship_tag": "ABX9TyPIgtaYrM1VczjY7kdUjrVV",
      "include_colab_link": true
    },
    "kernelspec": {
      "name": "python3",
      "display_name": "Python 3"
    },
    "language_info": {
      "name": "python"
    }
  },
  "cells": [
    {
      "cell_type": "markdown",
      "metadata": {
        "id": "view-in-github",
        "colab_type": "text"
      },
      "source": [
        "<a href=\"https://colab.research.google.com/github/Joing1116/FINAL-CLASS/blob/main/0713.ipynb\" target=\"_parent\"><img src=\"https://colab.research.google.com/assets/colab-badge.svg\" alt=\"Open In Colab\"/></a>"
      ]
    },
    {
      "cell_type": "code",
      "source": [
        "my_list = []  # 创建一个空列表\n",
        "my_list = [1, 2, 3]  # 创建一个包含整数的列表\n",
        "my_list = ['apple', 'banana', 'cherry']  # 创建一个包含字符串的列表\n",
        "my_list = [1, 'apple', True]  # 创建一个包含不同类型元素的列表\n"
      ],
      "metadata": {
        "id": "CVacPj0e6of2"
      },
      "execution_count": 4,
      "outputs": []
    },
    {
      "cell_type": "code",
      "source": [
        "type(my_list)"
      ],
      "metadata": {
        "colab": {
          "base_uri": "https://localhost:8080/"
        },
        "id": "xk_nGzZs6vR2",
        "outputId": "b43560d8-c1d7-4fbd-98a6-523532889c49"
      },
      "execution_count": 5,
      "outputs": [
        {
          "output_type": "execute_result",
          "data": {
            "text/plain": [
              "list"
            ]
          },
          "metadata": {},
          "execution_count": 5
        }
      ]
    },
    {
      "cell_type": "code",
      "source": [
        "my_set = set()  # 创建一个空集合\n",
        "my_set = {1, 2, 3}  # 创建一个包含整数的集合\n",
        "my_set = {'apple', 'banana', 'cherry'}  # 创建一个包含字符串的集合\n"
      ],
      "metadata": {
        "id": "egYGfC7765P3"
      },
      "execution_count": 6,
      "outputs": []
    },
    {
      "cell_type": "code",
      "source": [
        "type(my_set)"
      ],
      "metadata": {
        "colab": {
          "base_uri": "https://localhost:8080/"
        },
        "id": "E_IYOKIC7NsJ",
        "outputId": "27954c38-ba43-4e48-f705-602abb81344a"
      },
      "execution_count": 7,
      "outputs": [
        {
          "output_type": "execute_result",
          "data": {
            "text/plain": [
              "set"
            ]
          },
          "metadata": {},
          "execution_count": 7
        }
      ]
    },
    {
      "cell_type": "code",
      "source": [
        "my_dict = {'name': 'John', 'age': 30, 'city': 'New York'}\n",
        "print(my_dict['name'])  # 输出: 'John'\n",
        "print(my_dict['age'])  # 输出: 30\n"
      ],
      "metadata": {
        "colab": {
          "base_uri": "https://localhost:8080/"
        },
        "id": "oXzD9D507Vfx",
        "outputId": "d55d6710-8391-47c7-c4b0-d35d687f31a8"
      },
      "execution_count": 8,
      "outputs": [
        {
          "output_type": "stream",
          "name": "stdout",
          "text": [
            "John\n",
            "30\n"
          ]
        }
      ]
    },
    {
      "cell_type": "code",
      "source": [
        "type(my_dict)"
      ],
      "metadata": {
        "colab": {
          "base_uri": "https://localhost:8080/"
        },
        "id": "TZNg1he17ka6",
        "outputId": "81f4b12b-c916-429b-b229-ac3b688f3dab"
      },
      "execution_count": 9,
      "outputs": [
        {
          "output_type": "execute_result",
          "data": {
            "text/plain": [
              "dict"
            ]
          },
          "metadata": {},
          "execution_count": 9
        }
      ]
    }
  ]
}